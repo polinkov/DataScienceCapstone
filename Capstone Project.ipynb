{
 "cells": [
  {
   "cell_type": "markdown",
   "metadata": {},
   "source": [
    "# Coursera Data Science Capstone\n",
    "\n",
    "### Mark Polinkovsky\n",
    "### May 9, 2020"
   ]
  },
  {
   "cell_type": "markdown",
   "metadata": {},
   "source": [
    "<b> Introduction / Business Problem </b>\n",
    "\n",
    "People moving to a different city often want to settle in a neighborhood that is similar to the one they have been living in.  Because the person is new to the city, they may not be familiar with the various neighborhoods and their individual characters.  How can they choose a neighborhood to make sure it fits their familiar lifestyle?  Given their home neighborhood, its \"venues\" can be analyzed and matched to similar neighborhoods in the new city.  This would be a valuable service that real estate agents can provide to their customers, to help them narrow down the neighborhood choices to those that would be best.  It will make the customer happy by helping them find the ideal neighborhood for tehir lifestyle, and will help the real estate agent by improving the quality of service they offer, and by helping them narrow their focus to the desired neighborhoods."
   ]
  },
  {
   "cell_type": "markdown",
   "metadata": {},
   "source": [
    "<b> Data </b>\n",
    "\n",
    "For the current city, the data that will be needed is the address where the customer lives.  The address will be used to find its latitude and longitude.  The data needed in the new city is the list of neighborhoods and their postal codes, to find their latitude and longitude.  For both cities, the Foursquare data on venues near the neighborhood center will be needed.  For this project, we will focus on Toronto and New York, since we have the neighborhood data already.\n",
    "\n",
    "The new city's neighborhoods will be clustered using k-means clustering, based on the top 10 types of venues in that neighborhood.  The original neighborhood's top 10 venue types will also be calculated.  The K-means model will then be used to predict which cluster of neighborhoods in the new city the original neighborhood matches best with.  This way, the neighborhoods in the new city that belong to that cluster will be returned as matches by similarity to the customer's old neighborhood."
   ]
  },
  {
   "cell_type": "code",
   "execution_count": null,
   "metadata": {},
   "outputs": [],
   "source": []
  }
 ],
 "metadata": {
  "kernelspec": {
   "display_name": "Python 3",
   "language": "python",
   "name": "python3"
  },
  "language_info": {
   "codemirror_mode": {
    "name": "ipython",
    "version": 3
   },
   "file_extension": ".py",
   "mimetype": "text/x-python",
   "name": "python",
   "nbconvert_exporter": "python",
   "pygments_lexer": "ipython3",
   "version": "3.7.1"
  }
 },
 "nbformat": 4,
 "nbformat_minor": 2
}
